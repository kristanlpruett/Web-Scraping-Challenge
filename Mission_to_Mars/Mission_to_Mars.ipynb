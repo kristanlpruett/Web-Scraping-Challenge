{
 "cells": [
  {
   "cell_type": "code",
   "execution_count": 8,
   "metadata": {},
   "outputs": [],
   "source": [
    "from splinter import Browser\n",
    "from bs4 import BeautifulSoup\n",
    "import numpy as np\n",
    "from flask import Flask, render_template, redirect\n",
    "from flask_pymongo import PyMongo\n",
    "import time\n",
    "import pandas as pd\n",
    "\n",
    "app = Flask(__name__)\n",
    "\n",
    "app.config[\"MONGO_URI\"] = \"mongodb://localhost:27017/articles\"\n",
    "mongo = PyMongo(app)"
   ]
  },
  {
   "cell_type": "code",
   "execution_count": 2,
   "metadata": {},
   "outputs": [],
   "source": [
    "def init_browser():\n",
    "    executable_path = {\"executable_path\": \"C:/chromedriver/chromedriver.exe\"}\n",
    "    return Browser(\"chrome\", **executable_path, headless=False)"
   ]
  },
  {
   "cell_type": "code",
   "execution_count": 3,
   "metadata": {},
   "outputs": [],
   "source": [
    "#Python dictionary\n",
    "site_data = {}"
   ]
  },
  {
   "cell_type": "code",
   "execution_count": 6,
   "metadata": {},
   "outputs": [],
   "source": [
    "#Scrape articles & paragraph\n",
    "browser = init_browser()\n",
    "\n",
    "url = \"https://mars.nasa.gov/news/?page=0&per_page=40&order=publish_date+desc%2Ccreated_at+desc&search=&category=19%2C165%2C184%2C204&blank_scope=Latest\"\n",
    "browser.visit(url)\n",
    "html = browser.html\n",
    "soup = BeautifulSoup(html, \"html.parser\")\n",
    "articles_data = soup.find_all(class_='list_text')\n",
    "\n",
    "for ea in range(0,0):\n",
    "#     print(articles_data[ea].find(class_='content_title').text)\n",
    "#     print(articles_data[ea].find(class_='article_teaser_body').text)\n",
    "    site_data['news'] = {'news_title': articles_data[ea].find(class_='content_title').text, 'news_p': articles_data[ea].find(class_='article_teaser_body').text}\n",
    "#     print(\"-------------------\")\n",
    "    \n",
    "browser.quit()"
   ]
  },
  {
   "cell_type": "code",
   "execution_count": 7,
   "metadata": {},
   "outputs": [],
   "source": [
    "#Get featured image url\n",
    "browser = init_browser()\n",
    "\n",
    "url = \"https://www.jpl.nasa.gov/spaceimages/?search=&category=Mars\"\n",
    "browser.visit(url)\n",
    "html = browser.html\n",
    "soup = BeautifulSoup(html, \"html.parser\")\n",
    "featured_image = soup.find('a',class_=\"button fancybox\")\n",
    "\n",
    "browser.links.find_by_partial_text('FULL IMAGE').click()\n",
    "time.sleep(1)\n",
    "\n",
    "html = browser.html\n",
    "soup = BeautifulSoup(html, \"html.parser\")\n",
    "img = soup.find(class_='fancybox-inner').img\n",
    "img = str(img['src'])\n",
    "featured_image_url = \"https://www.jpl.nasa.gov\"+img\n",
    "# print(featured_image_url)\n",
    "site_data['featured_image'] = featured_image_url\n",
    "browser.quit()"
   ]
  },
  {
   "cell_type": "code",
   "execution_count": null,
   "metadata": {},
   "outputs": [],
   "source": [
    "#Scrape mars facts\n",
    "browser = init_browser()\n",
    "\n",
    "url = \"https://space-facts.com/mars/\"\n",
    "browser.visit(url)\n",
    "html = browser.html\n",
    "soup = BeautifulSoup(html, \"html.parser\")\n",
    "\n",
    "facts_table = pd.read_html('https://space-facts.com/mars/')\n",
    "facts_table = facts_table[0]\n",
    "\n",
    "site_data['facts'] = {}\n",
    "\n",
    "for key in facts_table:\n",
    "    values = []\n",
    "    for value in facts_table[key]:\n",
    "        values.append(value)\n",
    "    site_data['facts'][str(key)] = {'values':values}\n",
    "\n",
    "\n",
    "browser.quit()"
   ]
  },
  {
   "cell_type": "code",
   "execution_count": null,
   "metadata": {},
   "outputs": [],
   "source": [
    "#Scrape hemisphere images\n",
    "browser = init_browser()\n",
    "\n",
    "url = \"https://astrogeology.usgs.gov/search/results?q=hemisphere+enhanced&k1=target&v1=Mars\"\n",
    "browser.visit(url)\n",
    "\n",
    "html = browser.html\n",
    "soup = BeautifulSoup(html, \"html.parser\")\n",
    "descs = soup.find_all(class_=\"description\")\n",
    "links = []\n",
    "for ea in descs:\n",
    "    links.append(f\"https://astrogeology.usgs.gov{ea.find('a')['href']}\")\n",
    "\n",
    "hemisphere_images = []\n",
    "\n",
    "for ea in links:\n",
    "    hemisphere_image = {}\n",
    "    browser = init_browser()\n",
    "    url = ea\n",
    "    browser.visit(url)\n",
    "    html = browser.html\n",
    "    soup = BeautifulSoup(html, \"html.parser\")\n",
    "    hemisphere_image['title'] = soup.find('title').text.split(' Enhanced')[0]\n",
    "    hemisphere_image['url'] = soup.find('li').find('a')['href']\n",
    "    hemisphere_images.append(hemisphere_image)\n",
    "    browser.quit()\n",
    "\n",
    "browser.quit()\n",
    "\n",
    "site_data['hemisphere_images'] = hemisphere_images\n",
    "\n",
    "# print(hemisphere_images)"
   ]
  },
  {
   "cell_type": "code",
   "execution_count": null,
   "metadata": {},
   "outputs": [],
   "source": [
    "articles_db = mongo.db.articles\n",
    "article = {}\n",
    "\n",
    "articles_db.update(site_data, site_data, upsert=True)"
   ]
  },
  {
   "cell_type": "code",
   "execution_count": null,
   "metadata": {},
   "outputs": [],
   "source": []
  }
 ],
 "metadata": {
  "kernelspec": {
   "display_name": "Python 3",
   "language": "python",
   "name": "python3"
  },
  "language_info": {
   "codemirror_mode": {
    "name": "ipython",
    "version": 3
   },
   "file_extension": ".py",
   "mimetype": "text/x-python",
   "name": "python",
   "nbconvert_exporter": "python",
   "pygments_lexer": "ipython3",
   "version": "3.6.10"
  }
 },
 "nbformat": 4,
 "nbformat_minor": 4
}
